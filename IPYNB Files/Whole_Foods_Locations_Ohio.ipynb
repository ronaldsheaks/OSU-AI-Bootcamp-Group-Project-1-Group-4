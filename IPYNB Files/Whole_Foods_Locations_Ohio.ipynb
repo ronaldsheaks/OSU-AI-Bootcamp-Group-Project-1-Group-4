{
 "cells": [
  {
   "cell_type": "code",
   "execution_count": 3,
   "id": "b7b80486-d108-4430-8d73-02d0ab10c2eb",
   "metadata": {},
   "outputs": [
    {
     "name": "stdout",
     "output_type": "stream",
     "text": [
      "Filtered data saved to /Users/ronaldsheaks/Desktop/OSU AI Bootcamp/Group Project/GitHub Repo/OSU-AI-Bootcamp-Group-Project-1-Group-4/Resources/Ohio_Whole_Foods_Locations.csv\n"
     ]
    }
   ],
   "source": [
    "import pandas as pd\n",
    "\n",
    "# Load the Whole Foods locations data\n",
    "file_path = '/Users/ronaldsheaks/Desktop/OSU AI Bootcamp/Group Project/GitHub Repo/OSU-AI-Bootcamp-Group-Project-1-Group-4/Resources/Whole_Foods_Market_Locations.csv'\n",
    "whole_foods_df = pd.read_csv(file_path)\n",
    "\n",
    "# Filter the data for Ohio by checking if 'OH' is in the formatted_address\n",
    "ohio_whole_foods_df = whole_foods_df[whole_foods_df['formatted_address'].str.contains(' OH ')]\n",
    "\n",
    "# Save the filtered data\n",
    "output_path = '/Users/ronaldsheaks/Desktop/OSU AI Bootcamp/Group Project/GitHub Repo/OSU-AI-Bootcamp-Group-Project-1-Group-4/Resources/Ohio_Whole_Foods_Locations.csv'\n",
    "ohio_whole_foods_df.to_csv(output_path, index=False)\n",
    "\n",
    "print(f\"Filtered data saved to {output_path}\")\n"
   ]
  },
  {
   "cell_type": "code",
   "execution_count": null,
   "id": "eda43c41-842c-4004-994f-e71b16e10d2e",
   "metadata": {},
   "outputs": [],
   "source": []
  }
 ],
 "metadata": {
  "kernelspec": {
   "display_name": "Python 3 (ipykernel)",
   "language": "python",
   "name": "python3"
  },
  "language_info": {
   "codemirror_mode": {
    "name": "ipython",
    "version": 3
   },
   "file_extension": ".py",
   "mimetype": "text/x-python",
   "name": "python",
   "nbconvert_exporter": "python",
   "pygments_lexer": "ipython3",
   "version": "3.10.14"
  }
 },
 "nbformat": 4,
 "nbformat_minor": 5
}
