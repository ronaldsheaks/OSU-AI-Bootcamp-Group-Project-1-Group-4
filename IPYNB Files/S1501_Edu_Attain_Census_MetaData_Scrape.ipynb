{
 "cells": [
  {
   "cell_type": "code",
   "execution_count": 24,
   "id": "8874f220",
   "metadata": {},
   "outputs": [
    {
     "name": "stdout",
     "output_type": "stream",
     "text": [
      "Metadata for the S1501 C01 series saved to /Users/ronaldsheaks/Desktop/OSU AI Bootcamp/Group Project/GitHub Repo/OSU-AI-Bootcamp-Group-Project-1-Group-4/Resources/S1501_C01_series_metadata.csv\n"
     ]
    }
   ],
   "source": [
    "import requests\n",
    "import pandas as pd\n",
    "from dotenv import load_dotenv\n",
    "import os\n",
    "\n",
    "# Load your Census API key from the .env file\n",
    "env_path = '/Users/ronaldsheaks/Desktop/OSU AI Bootcamp/Group Project/GitHub Repo/OSU-AI-Bootcamp-Group-Project-1-Group-4/API Keys/.env'\n",
    "load_dotenv(env_path)\n",
    "census_api_key = os.getenv('Census_API_Key')\n",
    "\n",
    "# API URL for metadata about all variables in the S1501 group\n",
    "api_url = f\"https://api.census.gov/data/2020/acs/acs5/subject/groups/S1501?key={census_api_key}\"\n",
    "\n",
    "# Fetch the metadata\n",
    "response = requests.get(api_url)\n",
    "\n",
    "# Check if the response is successful\n",
    "if response.status_code == 200:\n",
    "    try:\n",
    "        metadata = response.json()\n",
    "        # Extract the variables from the metadata\n",
    "        variables = metadata['variables']\n",
    "        # Convert metadata to DataFrame for easier viewing\n",
    "        metadata_df = pd.DataFrame.from_dict(variables, orient='index')\n",
    "\n",
    "        # Filter to include only the relevant variables in the S1501 C01 series\n",
    "        filtered_metadata_df = metadata_df[metadata_df.index.str.startswith('S1501_C01')]\n",
    "\n",
    "        # Save the DataFrame to a CSV file for further analysis\n",
    "        output_path = '/Users/ronaldsheaks/Desktop/OSU AI Bootcamp/Group Project/GitHub Repo/OSU-AI-Bootcamp-Group-Project-1-Group-4/Resources/S1501_C01_series_metadata.csv'\n",
    "        filtered_metadata_df.to_csv(output_path, index=True)\n",
    "\n",
    "        print(f\"Metadata for the S1501 C01 series saved to {output_path}\")\n",
    "\n",
    "    except ValueError as e:\n",
    "        print(\"Error decoding JSON:\", e)\n",
    "else:\n",
    "    print(\"Failed to fetch data. Status code:\", response.status_code)\n",
    "    print(\"Response content:\", response.text)\n"
   ]
  },
  {
   "cell_type": "code",
   "execution_count": null,
   "id": "ece2b86d",
   "metadata": {},
   "outputs": [],
   "source": []
  }
 ],
 "metadata": {
  "kernelspec": {
   "display_name": "Python 3 (ipykernel)",
   "language": "python",
   "name": "python3"
  },
  "language_info": {
   "codemirror_mode": {
    "name": "ipython",
    "version": 3
   },
   "file_extension": ".py",
   "mimetype": "text/x-python",
   "name": "python",
   "nbconvert_exporter": "python",
   "pygments_lexer": "ipython3",
   "version": "3.11.7"
  }
 },
 "nbformat": 4,
 "nbformat_minor": 5
}
