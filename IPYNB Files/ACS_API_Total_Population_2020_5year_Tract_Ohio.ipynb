{
 "cells": [
  {
   "cell_type": "code",
   "execution_count": 1,
   "id": "54fbe493-36d3-4988-9e99-3bafb28fec82",
   "metadata": {},
   "outputs": [
    {
     "name": "stdout",
     "output_type": "stream",
     "text": [
      "Data downloaded and saved to ohio_census_tract_population_2020.csv\n"
     ]
    }
   ],
   "source": [
    "import requests\n",
    "import pandas as pd\n",
    "\n",
    "# Replace 'your_api_key' with your actual Census API key\n",
    "api_key = '78894d7610ee4d3fe4c768780f6378fa90c21916'\n",
    "\n",
    "# Define the URL for the API request\n",
    "url = f\"https://api.census.gov/data/2020/acs/acs5?get=B01003_001E,NAME&for=tract:*&in=state:39&key={api_key}\"\n",
    "\n",
    "# Send the API request and get the response\n",
    "response = requests.get(url)\n",
    "data = response.json()\n",
    "\n",
    "# Convert the response to a DataFrame\n",
    "columns = data[0]\n",
    "data_rows = data[1:]\n",
    "df = pd.DataFrame(data_rows, columns=columns)\n",
    "\n",
    "# Save to a CSV file\n",
    "df.to_csv('ohio_census_tract_population_2020.csv', index=False)\n",
    "\n",
    "print(\"Data downloaded and saved to ohio_census_tract_population_2020.csv\")\n"
   ]
  },
  {
   "cell_type": "code",
   "execution_count": null,
   "id": "a7026cb4-d8b7-42a7-96c8-51c4d7b80e9b",
   "metadata": {},
   "outputs": [],
   "source": []
  }
 ],
 "metadata": {
  "kernelspec": {
   "display_name": "Python 3 (ipykernel)",
   "language": "python",
   "name": "python3"
  },
  "language_info": {
   "codemirror_mode": {
    "name": "ipython",
    "version": 3
   },
   "file_extension": ".py",
   "mimetype": "text/x-python",
   "name": "python",
   "nbconvert_exporter": "python",
   "pygments_lexer": "ipython3",
   "version": "3.10.14"
  }
 },
 "nbformat": 4,
 "nbformat_minor": 5
}
