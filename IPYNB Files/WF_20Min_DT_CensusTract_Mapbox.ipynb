{
 "cells": [
  {
   "cell_type": "code",
   "execution_count": 5,
   "id": "f6a1055a",
   "metadata": {},
   "outputs": [
    {
     "name": "stdout",
     "output_type": "stream",
     "text": [
      "Isochrone polygons saved as /Users/ronaldsheaks/Desktop/OSU AI Bootcamp/Group Project/GitHub Repo/OSU-AI-Bootcamp-Group-Project-1-Group-4/Resources/Shapefiles/WF_20_Min_DT_Ohio_Mapbox/WF_20_Min_DT_Ohio_Mapbox.shp\n"
     ]
    },
    {
     "name": "stderr",
     "output_type": "stream",
     "text": [
      "/opt/anaconda3/lib/python3.11/site-packages/pyogrio/raw.py:698: UserWarning: 'crs' was not provided.  The output dataset will not have projection information defined and may not be usable in other systems.\n",
      "  warnings.warn(\n"
     ]
    }
   ],
   "source": [
    "import os\n",
    "import requests\n",
    "import geojson\n",
    "import pandas as pd\n",
    "import geopandas as gpd\n",
    "from shapely.geometry import shape\n",
    "from dotenv import load_dotenv\n",
    "\n",
    "# Load API key from .env file\n",
    "load_dotenv('/Users/ronaldsheaks/Desktop/OSU AI Bootcamp/Group Project/GitHub Repo/OSU-AI-Bootcamp-Group-Project-1-Group-4/API Keys/.env')\n",
    "mapbox_access_token = os.getenv('MapBox_API_Key')\n",
    "\n",
    "# Read the Whole Foods locations CSV\n",
    "csv_path = '/Users/ronaldsheaks/Desktop/OSU AI Bootcamp/Group Project/GitHub Repo/OSU-AI-Bootcamp-Group-Project-1-Group-4/Resources/Ohio_Whole_Foods_Locations.csv'\n",
    "locations_df = pd.read_csv(csv_path)\n",
    "\n",
    "# Function to get isochrone from Mapbox API\n",
    "def get_isochrone(lat, lon, minutes=20):\n",
    "    url = f\"https://api.mapbox.com/isochrone/v1/mapbox/driving/{lon},{lat}?contours_minutes={minutes}&polygons=true&access_token={mapbox_access_token}\"\n",
    "    response = requests.get(url)\n",
    "    return response.json()\n",
    "\n",
    "# List to hold isochrone polygons\n",
    "isochrones = []\n",
    "\n",
    "# Generate isochrones for each Whole Foods location\n",
    "for index, row in locations_df.iterrows():\n",
    "    lat, lon = row['latitude'], row['longitude']\n",
    "    isochrone = get_isochrone(lat, lon)\n",
    "    for feature in isochrone['features']:\n",
    "        isochrones.append(shape(feature['geometry']))\n",
    "\n",
    "# Create a GeoDataFrame with the isochrones\n",
    "gdf = gpd.GeoDataFrame(geometry=isochrones)\n",
    "\n",
    "# Save the GeoDataFrame as a Shapefile\n",
    "shapefile_path = '/Users/ronaldsheaks/Desktop/OSU AI Bootcamp/Group Project/GitHub Repo/OSU-AI-Bootcamp-Group-Project-1-Group-4/Resources/Shapefiles/WF_20_Min_DT_Ohio_Mapbox/WF_20_Min_DT_Ohio_Mapbox.shp'\n",
    "gdf.to_file(shapefile_path)\n",
    "\n",
    "print(f\"Isochrone polygons saved as {shapefile_path}\")\n"
   ]
  },
  {
   "cell_type": "code",
   "execution_count": null,
   "id": "6ffe684e",
   "metadata": {},
   "outputs": [],
   "source": []
  }
 ],
 "metadata": {
  "kernelspec": {
   "display_name": "Python 3 (ipykernel)",
   "language": "python",
   "name": "python3"
  },
  "language_info": {
   "codemirror_mode": {
    "name": "ipython",
    "version": 3
   },
   "file_extension": ".py",
   "mimetype": "text/x-python",
   "name": "python",
   "nbconvert_exporter": "python",
   "pygments_lexer": "ipython3",
   "version": "3.11.7"
  }
 },
 "nbformat": 4,
 "nbformat_minor": 5
}
