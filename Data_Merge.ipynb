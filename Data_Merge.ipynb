{
 "cells": [
  {
   "cell_type": "code",
   "execution_count": 16,
   "metadata": {},
   "outputs": [],
   "source": [
    "import pandas as pd"
   ]
  },
  {
   "cell_type": "code",
   "execution_count": 24,
   "metadata": {},
   "outputs": [
    {
     "name": "stdout",
     "output_type": "stream",
     "text": [
      "<class 'pandas.core.frame.DataFrame'>\n",
      "RangeIndex: 3168 entries, 0 to 3167\n",
      "Data columns (total 27 columns):\n",
      " #   Column                                                               Non-Null Count  Dtype \n",
      "---  ------                                                               --------------  ----- \n",
      " 0   NAME                                                                 3168 non-null   object\n",
      " 1   S1501_C01_001E: Total population 25 years and over                   3168 non-null   int64 \n",
      " 2   S1501_C01_002E: Less than 9th grade                                  3168 non-null   int64 \n",
      " 3   S1501_C01_003E: 9th to 12th grade, no diploma                        3168 non-null   int64 \n",
      " 4   S1501_C01_004E: High school graduate (includes equivalency)          3168 non-null   int64 \n",
      " 5   S1501_C01_005E: Some college, no degree                              3168 non-null   int64 \n",
      " 6   S1501_C01_006E: Associate's degree                                   3168 non-null   int64 \n",
      " 7   S1501_C01_007E: Bachelor's degree                                    3168 non-null   int64 \n",
      " 8   S1501_C01_008E: Graduate or professional degree                      3168 non-null   int64 \n",
      " 9   S1501_C01_009E: Percent high school graduate or higher               3168 non-null   int64 \n",
      " 10  S1501_C01_010E: Percent bachelor's degree or higher                  3168 non-null   int64 \n",
      " 11  S1501_C01_011E: Male, total population 25 years and over             3168 non-null   int64 \n",
      " 12  S1501_C01_012E: Male, less than 9th grade                            3168 non-null   int64 \n",
      " 13  S1501_C01_013E: Male, 9th to 12th grade, no diploma                  3168 non-null   int64 \n",
      " 14  S1501_C01_014E: Male, high school graduate (includes equivalency)    3168 non-null   int64 \n",
      " 15  S1501_C01_015E: Male, some college, no degree                        3168 non-null   int64 \n",
      " 16  S1501_C01_016E: Male, associate's degree                             3168 non-null   int64 \n",
      " 17  S1501_C01_017E: Male, bachelor's degree                              3168 non-null   int64 \n",
      " 18  S1501_C01_018E: Male, graduate or professional degree                3168 non-null   int64 \n",
      " 19  S1501_C01_019E: Female, total population 25 years and over           3168 non-null   int64 \n",
      " 20  S1501_C01_020E: Female, less than 9th grade                          3168 non-null   int64 \n",
      " 21  S1501_C01_021E: Female, 9th to 12th grade, no diploma                3168 non-null   int64 \n",
      " 22  S1501_C01_022E: Female, high school graduate (includes equivalency)  3168 non-null   int64 \n",
      " 23  state                                                                3168 non-null   int64 \n",
      " 24  county                                                               3168 non-null   int64 \n",
      " 25  tract                                                                3168 non-null   int64 \n",
      " 26  B01003_001E: Total Population                                        3168 non-null   int64 \n",
      "dtypes: int64(26), object(1)\n",
      "memory usage: 668.4+ KB\n"
     ]
    }
   ],
   "source": [
    "# read the CSVs into data frames\n",
    "df_ed = pd.read_csv(\"Resources/Educational_Attainment_Ohio_Census_Tract_2020.csv\")\n",
    "df_pop = pd.read_csv(\"Resources/ohio_census_tract_population_2020.csv\")\n",
    "\n",
    "# merge and rename data frames\n",
    "df_merge = pd.merge(df_ed, df_pop, on=\"NAME\", suffixes=('', '_DROP')).filter(regex='^(?!.*_DROP)')\n",
    "df_merge.rename(columns= {\n",
    "    \"S1501_C01_001E\": \"S1501_C01_001E: Total population 25 years and over\",\n",
    "    \"S1501_C01_002E\": \"S1501_C01_002E: Less than 9th grade\",\n",
    "    \"S1501_C01_003E\": \"S1501_C01_003E: 9th to 12th grade, no diploma\",\n",
    "    \"S1501_C01_004E\": \"S1501_C01_004E: High school graduate (includes equivalency)\",\n",
    "    \"S1501_C01_005E\": \"S1501_C01_005E: Some college, no degree\",\n",
    "    \"S1501_C01_006E\": \"S1501_C01_006E: Associate's degree\",\n",
    "    \"S1501_C01_007E\": \"S1501_C01_007E: Bachelor's degree\",\n",
    "    \"S1501_C01_008E\": \"S1501_C01_008E: Graduate or professional degree\",\n",
    "    \"S1501_C01_009E\": \"S1501_C01_009E: Percent high school graduate or higher\",\n",
    "    \"S1501_C01_010E\": \"S1501_C01_010E: Percent bachelor's degree or higher\",\n",
    "    \"S1501_C01_011E\": \"S1501_C01_011E: Male, total population 25 years and over\",\n",
    "    \"S1501_C01_012E\": \"S1501_C01_012E: Male, less than 9th grade\",\n",
    "    \"S1501_C01_013E\": \"S1501_C01_013E: Male, 9th to 12th grade, no diploma\",\n",
    "    \"S1501_C01_014E\": \"S1501_C01_014E: Male, high school graduate (includes equivalency)\",\n",
    "    \"S1501_C01_015E\": \"S1501_C01_015E: Male, some college, no degree\",\n",
    "    \"S1501_C01_016E\": \"S1501_C01_016E: Male, associate's degree\",\n",
    "    \"S1501_C01_017E\": \"S1501_C01_017E: Male, bachelor's degree\",\n",
    "    \"S1501_C01_018E\": \"S1501_C01_018E: Male, graduate or professional degree\",\n",
    "    \"S1501_C01_019E\": \"S1501_C01_019E: Female, total population 25 years and over\",\n",
    "    \"S1501_C01_020E\": \"S1501_C01_020E: Female, less than 9th grade\",\n",
    "    \"S1501_C01_021E\": \"S1501_C01_021E: Female, 9th to 12th grade, no diploma\",\n",
    "    \"S1501_C01_022E\": \"S1501_C01_022E: Female, high school graduate (includes equivalency)\",\n",
    "    \"S1501_C01_023E\": \"S1501_C01_023E: Female, some college, no degree\",\n",
    "    \"S1501_C01_024E\": \"S1501_C01_024E: Female, associate's degree\",\n",
    "    \"S1501_C01_025E\": \"S1501_C01_025E: Female, bachelor's degree\",\n",
    "    \"S1501_C01_026E\": \"S1501_C01_026E: Female, graduate or professional degree\",\n",
    "    \"B01003_001E\": \"B01003_001E: Total Population\"\n",
    "    },\n",
    "    inplace=True\n",
    "    )\n",
    "df_merge.info()"
   ]
  },
  {
   "cell_type": "code",
   "execution_count": 25,
   "metadata": {},
   "outputs": [],
   "source": [
    "# load as new CSV\n",
    "df_merge.to_csv(\"Resources/ACS_5_Year_Census_Tract_Edu_Attain_Total_Pop.csv\", index=False)"
   ]
  }
 ],
 "metadata": {
  "kernelspec": {
   "display_name": "dev",
   "language": "python",
   "name": "python3"
  },
  "language_info": {
   "codemirror_mode": {
    "name": "ipython",
    "version": 3
   },
   "file_extension": ".py",
   "mimetype": "text/x-python",
   "name": "python",
   "nbconvert_exporter": "python",
   "pygments_lexer": "ipython3",
   "version": "3.10.14"
  }
 },
 "nbformat": 4,
 "nbformat_minor": 2
}
