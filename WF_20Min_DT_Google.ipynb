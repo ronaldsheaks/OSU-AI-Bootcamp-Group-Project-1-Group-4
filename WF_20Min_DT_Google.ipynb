{
 "cells": [
  {
   "cell_type": "code",
   "execution_count": 2,
   "id": "979a5cf8",
   "metadata": {
    "scrolled": true
   },
   "outputs": [
    {
     "name": "stdout",
     "output_type": "stream",
     "text": [
      "Requirement already satisfied: googlemaps in /opt/anaconda3/lib/python3.11/site-packages (4.10.0)\n",
      "Requirement already satisfied: numpy in /opt/anaconda3/lib/python3.11/site-packages (1.24.3)\n",
      "Requirement already satisfied: shapely in /opt/anaconda3/lib/python3.11/site-packages (2.0.5)\n",
      "Requirement already satisfied: matplotlib in /opt/anaconda3/lib/python3.11/site-packages (3.8.4)\n",
      "Requirement already satisfied: pandas in /opt/anaconda3/lib/python3.11/site-packages (2.2.1)\n",
      "Requirement already satisfied: python-dotenv in /opt/anaconda3/lib/python3.11/site-packages (0.21.0)\n",
      "Requirement already satisfied: geojson in /opt/anaconda3/lib/python3.11/site-packages (3.1.0)\n",
      "Requirement already satisfied: requests<3.0,>=2.20.0 in /opt/anaconda3/lib/python3.11/site-packages (from googlemaps) (2.31.0)\n",
      "Requirement already satisfied: contourpy>=1.0.1 in /opt/anaconda3/lib/python3.11/site-packages (from matplotlib) (1.2.0)\n",
      "Requirement already satisfied: cycler>=0.10 in /opt/anaconda3/lib/python3.11/site-packages (from matplotlib) (0.11.0)\n",
      "Requirement already satisfied: fonttools>=4.22.0 in /opt/anaconda3/lib/python3.11/site-packages (from matplotlib) (4.25.0)\n",
      "Requirement already satisfied: kiwisolver>=1.3.1 in /opt/anaconda3/lib/python3.11/site-packages (from matplotlib) (1.4.4)\n",
      "Requirement already satisfied: packaging>=20.0 in /opt/anaconda3/lib/python3.11/site-packages (from matplotlib) (23.1)\n",
      "Requirement already satisfied: pillow>=8 in /opt/anaconda3/lib/python3.11/site-packages (from matplotlib) (10.2.0)\n",
      "Requirement already satisfied: pyparsing>=2.3.1 in /opt/anaconda3/lib/python3.11/site-packages (from matplotlib) (3.0.9)\n",
      "Requirement already satisfied: python-dateutil>=2.7 in /opt/anaconda3/lib/python3.11/site-packages (from matplotlib) (2.8.2)\n",
      "Requirement already satisfied: pytz>=2020.1 in /opt/anaconda3/lib/python3.11/site-packages (from pandas) (2023.3.post1)\n",
      "Requirement already satisfied: tzdata>=2022.7 in /opt/anaconda3/lib/python3.11/site-packages (from pandas) (2023.3)\n",
      "Requirement already satisfied: six>=1.5 in /opt/anaconda3/lib/python3.11/site-packages (from python-dateutil>=2.7->matplotlib) (1.16.0)\n",
      "Requirement already satisfied: charset-normalizer<4,>=2 in /opt/anaconda3/lib/python3.11/site-packages (from requests<3.0,>=2.20.0->googlemaps) (2.0.4)\n",
      "Requirement already satisfied: idna<4,>=2.5 in /opt/anaconda3/lib/python3.11/site-packages (from requests<3.0,>=2.20.0->googlemaps) (3.4)\n",
      "Requirement already satisfied: urllib3<3,>=1.21.1 in /opt/anaconda3/lib/python3.11/site-packages (from requests<3.0,>=2.20.0->googlemaps) (2.0.7)\n",
      "Requirement already satisfied: certifi>=2017.4.17 in /opt/anaconda3/lib/python3.11/site-packages (from requests<3.0,>=2.20.0->googlemaps) (2024.6.2)\n",
      "Note: you may need to restart the kernel to use updated packages.\n"
     ]
    }
   ],
   "source": [
    "pip install googlemaps numpy shapely matplotlib pandas python-dotenv geojson\n"
   ]
  },
  {
   "cell_type": "code",
   "execution_count": 8,
   "id": "075af551",
   "metadata": {},
   "outputs": [
    {
     "name": "stdout",
     "output_type": "stream",
     "text": [
      "Collecting geopandas\n",
      "  Using cached geopandas-1.0.1-py3-none-any.whl.metadata (2.2 kB)\n",
      "Requirement already satisfied: numpy>=1.22 in /opt/anaconda3/lib/python3.11/site-packages (from geopandas) (1.24.3)\n",
      "Collecting pyogrio>=0.7.2 (from geopandas)\n",
      "  Downloading pyogrio-0.9.0-cp311-cp311-macosx_12_0_arm64.whl.metadata (3.8 kB)\n",
      "Requirement already satisfied: packaging in /opt/anaconda3/lib/python3.11/site-packages (from geopandas) (23.1)\n",
      "Requirement already satisfied: pandas>=1.4.0 in /opt/anaconda3/lib/python3.11/site-packages (from geopandas) (2.2.1)\n",
      "Collecting pyproj>=3.3.0 (from geopandas)\n",
      "  Downloading pyproj-3.6.1-cp311-cp311-macosx_11_0_arm64.whl.metadata (31 kB)\n",
      "Requirement already satisfied: shapely>=2.0.0 in /opt/anaconda3/lib/python3.11/site-packages (from geopandas) (2.0.5)\n",
      "Requirement already satisfied: python-dateutil>=2.8.2 in /opt/anaconda3/lib/python3.11/site-packages (from pandas>=1.4.0->geopandas) (2.8.2)\n",
      "Requirement already satisfied: pytz>=2020.1 in /opt/anaconda3/lib/python3.11/site-packages (from pandas>=1.4.0->geopandas) (2023.3.post1)\n",
      "Requirement already satisfied: tzdata>=2022.7 in /opt/anaconda3/lib/python3.11/site-packages (from pandas>=1.4.0->geopandas) (2023.3)\n",
      "Requirement already satisfied: certifi in /opt/anaconda3/lib/python3.11/site-packages (from pyogrio>=0.7.2->geopandas) (2024.6.2)\n",
      "Requirement already satisfied: six>=1.5 in /opt/anaconda3/lib/python3.11/site-packages (from python-dateutil>=2.8.2->pandas>=1.4.0->geopandas) (1.16.0)\n",
      "Using cached geopandas-1.0.1-py3-none-any.whl (323 kB)\n",
      "Downloading pyogrio-0.9.0-cp311-cp311-macosx_12_0_arm64.whl (14.8 MB)\n",
      "\u001b[2K   \u001b[90m━━━━━━━━━━━━━━━━━━━━━━━━━━━━━━━━━━━━━━━━\u001b[0m \u001b[32m14.8/14.8 MB\u001b[0m \u001b[31m10.1 MB/s\u001b[0m eta \u001b[36m0:00:00\u001b[0m00:01\u001b[0m00:01\u001b[0m\n",
      "\u001b[?25hDownloading pyproj-3.6.1-cp311-cp311-macosx_11_0_arm64.whl (4.9 MB)\n",
      "\u001b[2K   \u001b[90m━━━━━━━━━━━━━━━━━━━━━━━━━━━━━━━━━━━━━━━━\u001b[0m \u001b[32m4.9/4.9 MB\u001b[0m \u001b[31m13.8 MB/s\u001b[0m eta \u001b[36m0:00:00\u001b[0ma \u001b[36m0:00:01\u001b[0m\n",
      "\u001b[?25hInstalling collected packages: pyproj, pyogrio, geopandas\n",
      "Successfully installed geopandas-1.0.1 pyogrio-0.9.0 pyproj-3.6.1\n",
      "Note: you may need to restart the kernel to use updated packages.\n"
     ]
    }
   ],
   "source": [
    "pip install geopandas\n"
   ]
  },
  {
   "cell_type": "code",
   "execution_count": 1,
   "id": "86fe5812",
   "metadata": {},
   "outputs": [
    {
     "name": "stdout",
     "output_type": "stream",
     "text": [
      "Isochrone polygons saved as /Users/ronaldsheaks/Desktop/OSU AI Bootcamp/Group Project/GitHub Repo/OSU-AI-Bootcamp-Group-Project-1-Group-4/Resources/Shapefiles/WF_20_Min_DT_Ohio/WF_20_Min_DT_Ohio.geojson\n",
      "Isochrone polygons saved as /Users/ronaldsheaks/Desktop/OSU AI Bootcamp/Group Project/GitHub Repo/OSU-AI-Bootcamp-Group-Project-1-Group-4/Resources/Shapefiles/WF_20_Min_DT_Ohio/WF_20Min_DT_Ohio_Google.shp\n"
     ]
    },
    {
     "name": "stderr",
     "output_type": "stream",
     "text": [
      "/opt/anaconda3/lib/python3.11/site-packages/pyogrio/raw.py:698: UserWarning: 'crs' was not provided.  The output dataset will not have projection information defined and may not be usable in other systems.\n",
      "  warnings.warn(\n"
     ]
    }
   ],
   "source": [
    "import os\n",
    "import googlemaps\n",
    "import numpy as np\n",
    "import pandas as pd\n",
    "from shapely.geometry import Polygon, Point, MultiPolygon\n",
    "import matplotlib.pyplot as plt\n",
    "import geojson\n",
    "from dotenv import load_dotenv\n",
    "import time\n",
    "\n",
    "# Load API key from .env file\n",
    "load_dotenv('/Users/ronaldsheaks/Desktop/OSU AI Bootcamp/Group Project/GitHub Repo/OSU-AI-Bootcamp-Group-Project-1-Group-4/API Keys/.env')\n",
    "api_key = os.getenv('API_KEY')\n",
    "\n",
    "# Initialize Google Maps client\n",
    "gmaps = googlemaps.Client(key=api_key)\n",
    "\n",
    "# Read the Whole Foods locations CSV\n",
    "csv_path = '/Users/ronaldsheaks/Desktop/OSU AI Bootcamp/Group Project/GitHub Repo/OSU-AI-Bootcamp-Group-Project-1-Group-4/Resources/Ohio_Whole_Foods_Locations.csv'\n",
    "locations_df = pd.read_csv(csv_path)\n",
    "\n",
    "# Helper function to chunk a list into smaller lists\n",
    "def chunk_list(data, chunk_size):\n",
    "    for i in range(0, len(data), chunk_size):\n",
    "        yield data[i:i + chunk_size]\n",
    "\n",
    "# List to hold isochrone polygons\n",
    "isochrones = []\n",
    "\n",
    "for index, row in locations_df.iterrows():\n",
    "    central_point = (row['latitude'], row['longitude'])\n",
    "    \n",
    "    # Generate grid of points around the central point\n",
    "    points = []\n",
    "    for i in range(-5, 6):  # 11x11 grid to reduce the number of points\n",
    "        for j in range(-5, 6):\n",
    "            lat_offset = i * 0.01\n",
    "            lng_offset = j * 0.01\n",
    "            points.append((central_point[0] + lat_offset, central_point[1] + lng_offset))\n",
    "\n",
    "    isochrone_points = []\n",
    "    # Chunk points into smaller batches\n",
    "    for point_chunk in chunk_list(points, 25):  # Chunk size of 25 to stay within limits\n",
    "        # Request travel times from the central point to each chunk of grid points\n",
    "        results = gmaps.distance_matrix(origins=[central_point], destinations=point_chunk, mode='driving')\n",
    "        \n",
    "        # Process results to extract travel times\n",
    "        for i, element in enumerate(results['rows'][0]['elements']):\n",
    "            travel_time = element['duration']['value'] / 60  # Convert seconds to minutes\n",
    "            if travel_time <= 20:\n",
    "                isochrone_points.append(point_chunk[i])\n",
    "                \n",
    "        # Add a small delay to avoid hitting rate limits\n",
    "        time.sleep(1)\n",
    "    \n",
    "    # Convert isochrone points to Shapely Point objects\n",
    "    shapely_points = [Point(lng, lat) for lat, lng in isochrone_points]\n",
    "\n",
    "    # Create a convex hull around the points to form an approximate polygon\n",
    "    if shapely_points:\n",
    "        isochrone_polygon = Polygon(shapely_points).convex_hull\n",
    "        isochrones.append(isochrone_polygon)\n",
    "\n",
    "# Combine all isochrones into a single MultiPolygon\n",
    "multi_isochrone = MultiPolygon(isochrones)\n",
    "\n",
    "# Save the MultiPolygon to a GeoJSON file\n",
    "geojson_path = '/Users/ronaldsheaks/Desktop/OSU AI Bootcamp/Group Project/GitHub Repo/OSU-AI-Bootcamp-Group-Project-1-Group-4/Resources/Shapefiles/WF_20_Min_DT_Ohio/WF_20_Min_DT_Ohio.geojson'\n",
    "geojson_feature = geojson.Feature(geometry=multi_isochrone, properties={})\n",
    "with open(geojson_path, 'w') as f:\n",
    "    geojson.dump(geojson_feature, f)\n",
    "\n",
    "print(f\"Isochrone polygons saved as {geojson_path}\")\n",
    "\n",
    "# Optional: Save as Shapefile using GeoPandas\n",
    "import geopandas as gpd\n",
    "\n",
    "gdf = gpd.GeoDataFrame(geometry=[multi_isochrone])\n",
    "shapefile_path = '/Users/ronaldsheaks/Desktop/OSU AI Bootcamp/Group Project/GitHub Repo/OSU-AI-Bootcamp-Group-Project-1-Group-4/Resources/Shapefiles/WF_20_Min_DT_Ohio/WF_20Min_DT_Ohio_Google.shp'\n",
    "gdf.to_file(shapefile_path)\n",
    "\n",
    "print(f\"Isochrone polygons saved as {shapefile_path}\")\n"
   ]
  },
  {
   "cell_type": "code",
   "execution_count": null,
   "id": "976fb684",
   "metadata": {},
   "outputs": [],
   "source": []
  }
 ],
 "metadata": {
  "kernelspec": {
   "display_name": "Python 3 (ipykernel)",
   "language": "python",
   "name": "python3"
  },
  "language_info": {
   "codemirror_mode": {
    "name": "ipython",
    "version": 3
   },
   "file_extension": ".py",
   "mimetype": "text/x-python",
   "name": "python",
   "nbconvert_exporter": "python",
   "pygments_lexer": "ipython3",
   "version": "3.11.7"
  }
 },
 "nbformat": 4,
 "nbformat_minor": 5
}
